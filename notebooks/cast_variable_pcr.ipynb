{
 "cells": [
  {
   "cell_type": "markdown",
   "id": "1ff5b91a",
   "metadata": {},
   "source": [
    "Análisis de la variable \"CRP\"\n",
    "Basado en la evidencia que proporcionas, la columna \"CRP\" corresponde casi con total seguridad a la Proteína C Reactiva (C-Reactive Protein en inglés). Es uno de los marcadores analíticos más importantes y utilizados en el seguimiento de pacientes con COVID-19.\n",
    "\n",
    "¿Qué es y qué mide esta variable?\n",
    "La Proteína C Reactiva (PCR), que no debe confundirse con la prueba de Reacción en Cadena de la Polimerasa (PCR) para detectar el virus, es una proteína producida por el hígado. Su concentración en la sangre aumenta drásticamente en respuesta a un proceso de inflamación en el cuerpo.\n",
    "\n",
    "En resumen:\n",
    "\n",
    "Qué es: Proteína C Reactiva, un biomarcador de inflamación.\n",
    "\n",
    "Qué mide: Mide el nivel de inflamación sistémica (generalizada) en el organismo. No es específica de una enfermedad, pero en un paciente diagnosticado con COVID-19, indica la intensidad de la respuesta inflamatoria del cuerpo contra la infección viral.\n",
    "\n",
    "Relevancia en COVID-19: Niveles elevados de CRP en pacientes con COVID-19 se asocian directamente con una mayor gravedad de la enfermedad, mayor riesgo de necesitar ventilación mecánica y un peor pronóstico. Es una métrica clave para evaluar la \"tormenta de citoquinas\".\n",
    "\n",
    "Las unidades de medida habituales son miligramos por litro (mg/L), lo que encaja perfectamente con el formato decimal que observas (ej: 4.5 mg/L, 15.2 mg/L).\n",
    "\n",
    "¿Cuál es el rango de normalidad?\n",
    "El rango de normalidad puede variar ligeramente entre laboratorios, pero en general, se interpreta de la siguiente manera:\n",
    "\n",
    "Normal: Un nivel de CRP inferior a 10 mg/L se considera generalmente bajo o normal. En personas sanas sin inflamación activa, el valor suele ser inferior a 3 mg/L.\n",
    "\n",
    "Inflamación leve a moderada: Valores entre 10 y 40 mg/L. El rango que mencionas (1 a 20) cae principalmente en esta categoría, lo que podría corresponder a pacientes con enfermedad leve o en fases iniciales.\n",
    "\n",
    "Inflamación severa: Valores superiores a 40-50 mg/L indican una respuesta inflamatoria significativa. En casos graves de COVID-19, no es raro ver valores que superan los 100 o incluso 200 mg/L.\n",
    "\n",
    "En tu contexto: El rango de 1 a 20 mg/L sugiere que estás analizando mayoritariamente a pacientes con una respuesta inflamatoria de leve a moderada.\n",
    "\n",
    "Interpretación de los valores no numéricos\n",
    "Aquí es donde resolvemos la confusión con la pista que encontraste.\n",
    "\n",
    "El significado de \"NO existe\" y la pista sobre la PCR\n",
    "La pista que mencionas: \"El ADN obtenido de la muestra recibida no ha sido de calidad óptima para la PCR (RT-PCR). Se recomienda una nueva toma de muestra.\" es extremadamente reveladora.\n",
    "\n",
    "Aunque el comentario habla de una prueba RT-PCR (la del virus), el problema de fondo es una muestra inválida. Es muy probable que tu sistema de datos utilice el valor \"NO existe\" como un indicador genérico para cualquier analítica cuyo resultado no se pudo obtener.\n",
    "\n",
    "Por lo tanto, \"NO existe\" en la columna CRP muy probablemente significa:\n",
    "\n",
    "La prueba no se pudo realizar: La muestra de sangre recibida para medir la CRP era inadecuada (ej: hemolizada, insuficiente, coagulada).\n",
    "\n",
    "Error técnico: Hubo un fallo en el equipo del laboratorio al procesar la muestra.\n",
    "\n",
    "Muestra perdida o no solicitada: La analítica no se solicitó para ese paciente o la muestra se extravió.\n",
    "\n",
    "En esencia, \"NO existe\" equivale a \"Resultado no disponible por fallo pre-analítico o técnico\". La pista sobre la RT-PCR es solo un ejemplo del tipo de error que puede ocurrir, aunque se refiera a otro tipo de prueba.\n",
    "\n",
    "El significado de \"se detecta\" y \"no se detecta\"\n",
    "Que una prueba cuantitativa como la CRP se reporte de forma cualitativa (\"se detecta\" / \"no se detecta\") es menos común, pero tiene una explicación lógica en el contexto de un laboratorio.\n",
    "\n",
    "\"no se detecta\": Esto suele significar que el nivel de la proteína está por debajo del límite de detección del ensayo. Cada prueba de laboratorio tiene una sensibilidad mínima. Por ejemplo, si el límite inferior de detección es de 0.5 mg/L, un valor real de 0.2 mg/L se informaría como \"<0.5 mg/L\" o, de forma simplificada, \"no se detecta\". Clínicamente, equivale a un resultado normal y sin inflamación.\n",
    "\n",
    "\"se detecta\": Este valor es un poco redundante si ya tienes un número, pero podría ser una bandera automática del sistema que significa que el valor está por encima del límite de detección y, por lo tanto, es cuantificable. En la práctica, simplemente confirma que hay un nivel medible de CRP, indicando algún grado de inflamación."
   ]
  },
  {
   "cell_type": "code",
   "execution_count": 1,
   "id": "49f85c2e",
   "metadata": {},
   "outputs": [],
   "source": [
    "import pandas as pd\n",
    "\n",
    "df = pd.read_csv('C:\\\\Users\\\\Lenovo\\\\Desktop\\\\MASTER\\\\2º Cuatrimestre\\\\TFM\\\\2º fase\\\\r35_historia_clinica_sintetica\\\\R35_sopra_steria\\\\data\\\\real\\\\df_final.csv',\n",
    "                sep=',', low_memory=False, encoding=\"utf-8\")"
   ]
  },
  {
   "cell_type": "code",
   "execution_count": 2,
   "id": "137d8250",
   "metadata": {},
   "outputs": [
    {
     "name": "stderr",
     "output_type": "stream",
     "text": [
      "C:\\Users\\Lenovo\\AppData\\Local\\Temp\\ipykernel_33028\\3520851963.py:2: UserWarning: This pattern is interpreted as a regular expression, and has match groups. To actually get the groups, use str.extract.\n",
      "  df_filtered = df[df[\"RESULTADO/VAL_RESULT\"].str.contains(r'^\\d+(\\.\\d+)?$', na=False)]\n",
      "C:\\Users\\Lenovo\\AppData\\Local\\Temp\\ipykernel_33028\\3520851963.py:4: UserWarning: This pattern is interpreted as a regular expression, and has match groups. To actually get the groups, use str.extract.\n",
      "  df_no_filtered = df[~df[\"RESULTADO/VAL_RESULT\"].str.contains(r'^\\d+(\\.\\d+)?$', na=False)]\n"
     ]
    }
   ],
   "source": [
    "# filtrar valores que no contienen numeros decimales en el string\n",
    "df_filtered = df[df[\"RESULTADO/VAL_RESULT\"].str.contains(r'^\\d+(\\.\\d+)?$', na=False)]\n",
    "# filtrar valores que contienen numeros en el string\n",
    "df_no_filtered = df[~df[\"RESULTADO/VAL_RESULT\"].str.contains(r'^\\d+(\\.\\d+)?$', na=False)]"
   ]
  },
  {
   "cell_type": "code",
   "execution_count": 3,
   "id": "9eda5ae8",
   "metadata": {},
   "outputs": [
    {
     "name": "stderr",
     "output_type": "stream",
     "text": [
      "C:\\Users\\Lenovo\\AppData\\Local\\Temp\\ipykernel_33028\\1071096481.py:2: SettingWithCopyWarning: \n",
      "A value is trying to be set on a copy of a slice from a DataFrame.\n",
      "Try using .loc[row_indexer,col_indexer] = value instead\n",
      "\n",
      "See the caveats in the documentation: https://pandas.pydata.org/pandas-docs/stable/user_guide/indexing.html#returning-a-view-versus-a-copy\n",
      "  df_filtered['RESULTADO/VAL_RESULT'] = df_filtered['RESULTADO/VAL_RESULT'].astype(float)\n"
     ]
    }
   ],
   "source": [
    "# # Convert the 'RESULTADO/VAL_RESULT' column to float\n",
    "df_filtered['RESULTADO/VAL_RESULT'] = df_filtered['RESULTADO/VAL_RESULT'].astype(float)\n",
    "# # Convert the 'RESULTADO/VAL_RESULT' column to numeric, forcing errors to NaN"
   ]
  },
  {
   "cell_type": "code",
   "execution_count": 4,
   "id": "995e6c84",
   "metadata": {},
   "outputs": [],
   "source": [
    "# df_no_filtered[\"RESULTADO/VAL_RESULT\"].unique()"
   ]
  },
  {
   "cell_type": "code",
   "execution_count": 5,
   "id": "67a843c7",
   "metadata": {},
   "outputs": [
    {
     "data": {
      "text/plain": [
       "count     1895.000000\n",
       "mean        36.835259\n",
       "std        312.635651\n",
       "min          0.000000\n",
       "25%         10.800000\n",
       "50%         12.800000\n",
       "75%         14.500000\n",
       "max      10283.000000\n",
       "Name: RESULTADO/VAL_RESULT, dtype: float64"
      ]
     },
     "execution_count": 5,
     "metadata": {},
     "output_type": "execute_result"
    }
   ],
   "source": [
    "df_filtered['RESULTADO/VAL_RESULT'].describe()"
   ]
  },
  {
   "cell_type": "code",
   "execution_count": 6,
   "id": "e94bef2b",
   "metadata": {},
   "outputs": [
    {
     "name": "stdout",
     "output_type": "stream",
     "text": [
      "Quantiles:\n",
      "0.25    10.8\n",
      "0.50    12.8\n",
      "0.75    14.5\n",
      "Name: RESULTADO/VAL_RESULT, dtype: float64\n",
      "Interquartile Range (IQR): 3.6999999999999993\n",
      "Lower Bound for Outliers: 5.250000000000002\n",
      "Upper Bound for Outliers: 20.049999999999997\n"
     ]
    }
   ],
   "source": [
    "# quantiles\n",
    "quantiles = df_filtered['RESULTADO/VAL_RESULT'].quantile([0.25, 0.5, 0.75])\n",
    "print(\"Quantiles:\")\n",
    "print(quantiles)\n",
    "# Calculate the interquartile range (IQR)\n",
    "iqr = quantiles[0.75] - quantiles[0.25]\n",
    "print(\"Interquartile Range (IQR):\", iqr)\n",
    "# Calculate the lower and upper bounds for outliers\n",
    "lower_bound = quantiles[0.25] - 1.5 * iqr\n",
    "upper_bound = quantiles[0.75] + 1.5 * iqr\n",
    "print(\"Lower Bound for Outliers:\", lower_bound)\n",
    "print(\"Upper Bound for Outliers:\", upper_bound)"
   ]
  },
  {
   "cell_type": "code",
   "execution_count": 7,
   "id": "bc14b15b",
   "metadata": {},
   "outputs": [],
   "source": [
    "# diccionario de valores no filtrados con su valor numérico asociado\n",
    "values_dict = {\n",
    "    'Se detecta': '13', \n",
    "    'No se detecta': '0', \n",
    "    'No se detecta ADN de CMV.': '0', \n",
    "    '-2.9': '-2.9',\n",
    "    'Negativo': '8',\n",
    "    'Prueba ya solicitada en fecha 2020-04-09 en muestra 620207662': '0',\n",
    "    'Indeterminado': '0',\n",
    "    'Negativo (0.76)': '0.76', \n",
    "    'Se detecta Ct: 34': '34',\n",
    "    'Negativo (< 0.1)': '0.1',\n",
    "    'Negativo (0.16)': '0.16',\n",
    "    'Indeterminado (se solicita nueva muestra': '0',\n",
    "    'Sin resultado': '0',\n",
    "    'Negativo TÂ¡tulo <1/100': '0.1',\n",
    "    'Enviado al Hospital 12 de Octubre': '0', \n",
    "    'Negativo (0.08)': '0.08',\n",
    "    'Negativo\\\\X0A\\\\- Influenza A: No se detecta\\\\X0A\\\\- Influenza B: No se detecta\\\\X0A\\\\- Influenza H1N1: No se detecta\\\\X0A\\\\- Coronavirus (Cor 229, Cor 63, Cor 43 y HKU): No se detecta\\\\X0A\\\\- Parainfluenza (HPIV1, HPIV2, HPIV3 y HPIV4): No se detecta\\\\X0A\\\\- Adenovirus (HAdV): No se detecta.\\\\X0A\\\\- Virus Respiratorio Sincitial (HRSVA/B): No se detecta.\\\\X0A\\\\- Bocavirus (HBoV): No se detecta.\\\\X0A\\\\- Metapneumovirus (HMPV A/B): No se detecta.\\\\X0A\\\\- Rinovirus (RV): No se detecta.\\\\X0A\\\\- Parechovirus (HPeV): No se detecta.\\\\X0A\\\\- Mycoplasma pneumoniae (Mpneu): No se detecta.': '0',\n",
    "    'PORTADOR PSEUDOMONA MR': '0',\n",
    "    'No remite muestra': '0',\n",
    "    '-5.2': '5.2',\n",
    "    '----': '0',\n",
    "    'BLASTOS': '0',\n",
    "    '-4.5': '4.5',\n",
    "    'No se detecta ADN del complejo M. tuberculosis': '0',\n",
    "    'LACTATO': '0',\n",
    "    'PLAQUETAS AGREGADAS': '0', \n",
    "    'HERIDA SACRO': '0',\n",
    "    'Indeterminado (se solicita nueva muestra, si es posible BAL o BAS).': '0',\n",
    "    'Negativo (0.15)': '0.15',\n",
    "    '-1.2': '1.2',\n",
    "    'Se envÂ¡a al RamÂ¢n y Cajal': '0',\n",
    "    'Negativo (0.25)': '0.25',\n",
    "    '-10.7': '10.7',\n",
    "    'URG': '0',\n",
    "    '> 100.0': '100.0',\n",
    "    'CONTROL PORTADOR BLEE': '0', \n",
    "    'ALEJANDRO': '0',\n",
    "    '-2.6': '2.6',\n",
    "    'Negativo (0.19)': '0.19',\n",
    "    'MALENA': '0',\n",
    "    'Se observan neutrÂ¢filos vacuolados y agregados plaquetarios. Serie roja no valorable por artefacto.': '0',\n",
    "    'No procede': '0',\n",
    "    'CONTROL PORTADOR BLEE + EPC': '0',\n",
    "    'Se realiza la determinaciÂ¢n en NÂ§ 620021892': '0', \n",
    "    '-1.9': '1.9',\n",
    "    'PoblaciÂ¢n analizada: Linfocitaria (12.4%). Se identifican las siguientes subpoblaciones: Linfocitos T CD3+ (75.40%)': '0',\n",
    "    'Control Portador SARM': '0',\n",
    "    'Negativo (0.07)': '0.07',\n",
    "    'Negativo (0.43)': '0.43',\n",
    "    '-8.5': '8.5',\n",
    "    'Procesado en 420061445': '0',\n",
    "    '< 0.1': '0.1',\n",
    "    'Prueba ya solicitada en fecha 2020-11-20 en muestra 420821695': '0',\n",
    "    'Positivo. Se observan una banda correspondiente a la proteÂ¡na C1 y otra dÂ\\x82bil correspondiente a la proteÂ¡na NS3': '15',\n",
    "    '-3.3': '3.3',\n",
    "    '-1.7': '1.7',\n",
    "    'Procesado en la muestra 420169512 del dÂ¡a 16/09/2020': '0',\n",
    "    'Procesada en HMV': '0',\n",
    "    'Negativo (0.14)': '0.14',\n",
    "    '-3.7': '3.7',\n",
    "    'No valorable por material genÂ\\x82tico insuficiente en la muestra remitida': '0',\n",
    "    'El ADN obtenido de la muestra recibida no ha sido de calidad Â¢ptima para la PCR (RT-PCR). Se recomienda una nueva toma de muestra.' : '0'\n",
    "    \n",
    "}\n",
    "# reemplazar los valores no filtrados por su valor numérico asociado\n",
    "df[\"RESULTADO/VAL_RESULT\"] = df[\"RESULTADO/VAL_RESULT\"].replace(values_dict)\n"
   ]
  },
  {
   "cell_type": "code",
   "execution_count": 8,
   "id": "11cbe607",
   "metadata": {},
   "outputs": [],
   "source": [
    "df['RESULTADO/VAL_RESULT'] = df['RESULTADO/VAL_RESULT'].astype(float)\n"
   ]
  },
  {
   "cell_type": "code",
   "execution_count": null,
   "id": "864da717",
   "metadata": {},
   "outputs": [],
   "source": [
    "# save the modified DataFrame to a new CSV file\n",
    "df.to_csv('C:\\\\Users\\\\Lenovo\\\\Desktop\\\\MASTER\\\\2º Cuatrimestre\\\\TFM\\\\2º fase\\\\r35_historia_clinica_sintetica\\\\R35_sopra_steria\\\\data\\\\real\\\\df_final_v2.csv', \n",
    "        sep=',', index=False, encoding=\"utf-8\")"
   ]
  },
  {
   "cell_type": "code",
   "execution_count": null,
   "id": "2b1da319",
   "metadata": {},
   "outputs": [],
   "source": []
  }
 ],
 "metadata": {
  "kernelspec": {
   "display_name": "R35_sopra_steria-7X5YpWRb",
   "language": "python",
   "name": "python3"
  },
  "language_info": {
   "codemirror_mode": {
    "name": "ipython",
    "version": 3
   },
   "file_extension": ".py",
   "mimetype": "text/x-python",
   "name": "python",
   "nbconvert_exporter": "python",
   "pygments_lexer": "ipython3",
   "version": "3.12.7"
  }
 },
 "nbformat": 4,
 "nbformat_minor": 5
}
